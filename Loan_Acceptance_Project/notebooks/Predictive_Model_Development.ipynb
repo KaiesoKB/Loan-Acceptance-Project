{
 "cells": [
  {
   "cell_type": "code",
   "execution_count": 1,
   "id": "92953e6c-2fb9-47e4-ad17-38880e97c37d",
   "metadata": {},
   "outputs": [],
   "source": [
    "import pandas as pd\n",
    "import numpy as np\n",
    "import matplotlib.pyplot as plt\n",
    "import seaborn as sns\n",
    "from sklearn.model_selection import train_test_split\n",
    "from sklearn.preprocessing import StandardScaler\n",
    "from sklearn.linear_model import LogisticRegression\n",
    "from sklearn.ensemble import RandomForestClassifier, GradientBoostingClassifier\n",
    "from sklearn.neighbors import KNeighborsClassifier\n",
    "from sklearn.tree import DecisionTreeClassifier\n",
    "from sklearn.metrics import classification_report, f1_score, roc_auc_score, recall_score\n",
    "from imblearn.over_sampling import SMOTE\n",
    "from sklearn.model_selection import GridSearchCV, RandomizedSearchCV\n",
    "from sklearn.model_selection import cross_val_score\n",
    "from sklearn.metrics import make_scorer\n",
    "from sklearn.metrics import ConfusionMatrixDisplay, PrecisionRecallDisplay, RocCurveDisplay\n",
    "import joblib\n",
    "import pickle"
   ]
  },
  {
   "cell_type": "code",
   "execution_count": 2,
   "id": "590e76b5-611c-4b95-9368-841eded0619b",
   "metadata": {},
   "outputs": [],
   "source": [
    "df = pd.read_csv(\"Bank_Customers_Cleaned.csv\")"
   ]
  },
  {
   "cell_type": "code",
   "execution_count": 3,
   "id": "c0c785a5-1c39-4893-b450-adf9f2eb9425",
   "metadata": {},
   "outputs": [
    {
     "data": {
      "text/html": [
       "<div>\n",
       "<style scoped>\n",
       "    .dataframe tbody tr th:only-of-type {\n",
       "        vertical-align: middle;\n",
       "    }\n",
       "\n",
       "    .dataframe tbody tr th {\n",
       "        vertical-align: top;\n",
       "    }\n",
       "\n",
       "    .dataframe thead th {\n",
       "        text-align: right;\n",
       "    }\n",
       "</style>\n",
       "<table border=\"1\" class=\"dataframe\">\n",
       "  <thead>\n",
       "    <tr style=\"text-align: right;\">\n",
       "      <th></th>\n",
       "      <th>id</th>\n",
       "      <th>age</th>\n",
       "      <th>experience</th>\n",
       "      <th>income</th>\n",
       "      <th>zip_code</th>\n",
       "      <th>family</th>\n",
       "      <th>cc_avg</th>\n",
       "      <th>education</th>\n",
       "      <th>mortgage</th>\n",
       "      <th>personal_loan</th>\n",
       "      <th>...</th>\n",
       "      <th>credit_card</th>\n",
       "      <th>age_bracket</th>\n",
       "      <th>income_group</th>\n",
       "      <th>cc_avg_group</th>\n",
       "      <th>education_level</th>\n",
       "      <th>mortgage_group</th>\n",
       "      <th>housing_to_income_group</th>\n",
       "      <th>total_customer_products</th>\n",
       "      <th>cc_to_income_group</th>\n",
       "      <th>income_per_family_member_group</th>\n",
       "    </tr>\n",
       "  </thead>\n",
       "  <tbody>\n",
       "    <tr>\n",
       "      <th>0</th>\n",
       "      <td>1</td>\n",
       "      <td>25</td>\n",
       "      <td>1</td>\n",
       "      <td>49</td>\n",
       "      <td>91107.0</td>\n",
       "      <td>4</td>\n",
       "      <td>1.6</td>\n",
       "      <td>1</td>\n",
       "      <td>0</td>\n",
       "      <td>0</td>\n",
       "      <td>...</td>\n",
       "      <td>0</td>\n",
       "      <td>20-30</td>\n",
       "      <td>Low</td>\n",
       "      <td>Low</td>\n",
       "      <td>Undergrad</td>\n",
       "      <td>NaN</td>\n",
       "      <td>NaN</td>\n",
       "      <td>1</td>\n",
       "      <td>Moderate</td>\n",
       "      <td>Low</td>\n",
       "    </tr>\n",
       "    <tr>\n",
       "      <th>1</th>\n",
       "      <td>2</td>\n",
       "      <td>45</td>\n",
       "      <td>19</td>\n",
       "      <td>34</td>\n",
       "      <td>90089.0</td>\n",
       "      <td>3</td>\n",
       "      <td>1.5</td>\n",
       "      <td>1</td>\n",
       "      <td>0</td>\n",
       "      <td>0</td>\n",
       "      <td>...</td>\n",
       "      <td>0</td>\n",
       "      <td>41-50</td>\n",
       "      <td>Low</td>\n",
       "      <td>Low</td>\n",
       "      <td>Undergrad</td>\n",
       "      <td>NaN</td>\n",
       "      <td>NaN</td>\n",
       "      <td>1</td>\n",
       "      <td>High</td>\n",
       "      <td>Low</td>\n",
       "    </tr>\n",
       "    <tr>\n",
       "      <th>2</th>\n",
       "      <td>3</td>\n",
       "      <td>39</td>\n",
       "      <td>15</td>\n",
       "      <td>11</td>\n",
       "      <td>94720.0</td>\n",
       "      <td>1</td>\n",
       "      <td>1.0</td>\n",
       "      <td>1</td>\n",
       "      <td>0</td>\n",
       "      <td>0</td>\n",
       "      <td>...</td>\n",
       "      <td>0</td>\n",
       "      <td>31-40</td>\n",
       "      <td>Low</td>\n",
       "      <td>Low</td>\n",
       "      <td>Undergrad</td>\n",
       "      <td>NaN</td>\n",
       "      <td>NaN</td>\n",
       "      <td>0</td>\n",
       "      <td>Critical</td>\n",
       "      <td>Low</td>\n",
       "    </tr>\n",
       "    <tr>\n",
       "      <th>3</th>\n",
       "      <td>4</td>\n",
       "      <td>35</td>\n",
       "      <td>9</td>\n",
       "      <td>100</td>\n",
       "      <td>94112.0</td>\n",
       "      <td>1</td>\n",
       "      <td>2.7</td>\n",
       "      <td>2</td>\n",
       "      <td>0</td>\n",
       "      <td>0</td>\n",
       "      <td>...</td>\n",
       "      <td>0</td>\n",
       "      <td>31-40</td>\n",
       "      <td>Medium</td>\n",
       "      <td>Medium</td>\n",
       "      <td>Graduate</td>\n",
       "      <td>NaN</td>\n",
       "      <td>NaN</td>\n",
       "      <td>0</td>\n",
       "      <td>Moderate</td>\n",
       "      <td>High</td>\n",
       "    </tr>\n",
       "    <tr>\n",
       "      <th>4</th>\n",
       "      <td>5</td>\n",
       "      <td>35</td>\n",
       "      <td>8</td>\n",
       "      <td>45</td>\n",
       "      <td>91330.0</td>\n",
       "      <td>4</td>\n",
       "      <td>1.0</td>\n",
       "      <td>2</td>\n",
       "      <td>0</td>\n",
       "      <td>0</td>\n",
       "      <td>...</td>\n",
       "      <td>1</td>\n",
       "      <td>31-40</td>\n",
       "      <td>Low</td>\n",
       "      <td>Low</td>\n",
       "      <td>Graduate</td>\n",
       "      <td>NaN</td>\n",
       "      <td>NaN</td>\n",
       "      <td>1</td>\n",
       "      <td>Moderate</td>\n",
       "      <td>Low</td>\n",
       "    </tr>\n",
       "  </tbody>\n",
       "</table>\n",
       "<p>5 rows × 23 columns</p>\n",
       "</div>"
      ],
      "text/plain": [
       "   id  age  experience  income  zip_code  family  cc_avg  education  mortgage  \\\n",
       "0   1   25           1      49   91107.0       4     1.6          1         0   \n",
       "1   2   45          19      34   90089.0       3     1.5          1         0   \n",
       "2   3   39          15      11   94720.0       1     1.0          1         0   \n",
       "3   4   35           9     100   94112.0       1     2.7          2         0   \n",
       "4   5   35           8      45   91330.0       4     1.0          2         0   \n",
       "\n",
       "   personal_loan  ...  credit_card  age_bracket  income_group  cc_avg_group  \\\n",
       "0              0  ...            0        20-30           Low           Low   \n",
       "1              0  ...            0        41-50           Low           Low   \n",
       "2              0  ...            0        31-40           Low           Low   \n",
       "3              0  ...            0        31-40        Medium        Medium   \n",
       "4              0  ...            1        31-40           Low           Low   \n",
       "\n",
       "  education_level mortgage_group housing_to_income_group  \\\n",
       "0       Undergrad            NaN                     NaN   \n",
       "1       Undergrad            NaN                     NaN   \n",
       "2       Undergrad            NaN                     NaN   \n",
       "3        Graduate            NaN                     NaN   \n",
       "4        Graduate            NaN                     NaN   \n",
       "\n",
       "  total_customer_products cc_to_income_group income_per_family_member_group  \n",
       "0                       1           Moderate                            Low  \n",
       "1                       1               High                            Low  \n",
       "2                       0           Critical                            Low  \n",
       "3                       0           Moderate                           High  \n",
       "4                       1           Moderate                            Low  \n",
       "\n",
       "[5 rows x 23 columns]"
      ]
     },
     "execution_count": 3,
     "metadata": {},
     "output_type": "execute_result"
    }
   ],
   "source": [
    "df.head()"
   ]
  },
  {
   "cell_type": "code",
   "execution_count": 4,
   "id": "d9c67a5d-e13e-4e9e-8bfb-12f5d7af9b0c",
   "metadata": {},
   "outputs": [
    {
     "name": "stdout",
     "output_type": "stream",
     "text": [
      "<class 'pandas.core.frame.DataFrame'>\n",
      "RangeIndex: 5000 entries, 0 to 4999\n",
      "Data columns (total 23 columns):\n",
      " #   Column                          Non-Null Count  Dtype  \n",
      "---  ------                          --------------  -----  \n",
      " 0   id                              5000 non-null   int64  \n",
      " 1   age                             5000 non-null   int64  \n",
      " 2   experience                      5000 non-null   int64  \n",
      " 3   income                          5000 non-null   int64  \n",
      " 4   zip_code                        4999 non-null   float64\n",
      " 5   family                          5000 non-null   int64  \n",
      " 6   cc_avg                          5000 non-null   float64\n",
      " 7   education                       5000 non-null   int64  \n",
      " 8   mortgage                        5000 non-null   int64  \n",
      " 9   personal_loan                   5000 non-null   int64  \n",
      " 10  securities_account              5000 non-null   int64  \n",
      " 11  cd_account                      5000 non-null   int64  \n",
      " 12  online_banking                  5000 non-null   int64  \n",
      " 13  credit_card                     5000 non-null   int64  \n",
      " 14  age_bracket                     5000 non-null   object \n",
      " 15  income_group                    5000 non-null   object \n",
      " 16  cc_avg_group                    4894 non-null   object \n",
      " 17  education_level                 5000 non-null   object \n",
      " 18  mortgage_group                  1538 non-null   object \n",
      " 19  housing_to_income_group         1538 non-null   object \n",
      " 20  total_customer_products         5000 non-null   int64  \n",
      " 21  cc_to_income_group              4894 non-null   object \n",
      " 22  income_per_family_member_group  5000 non-null   object \n",
      "dtypes: float64(2), int64(13), object(8)\n",
      "memory usage: 898.6+ KB\n"
     ]
    }
   ],
   "source": [
    "df.info()"
   ]
  },
  {
   "cell_type": "markdown",
   "id": "80601092-62e7-43be-a47d-253c3d9a4833",
   "metadata": {},
   "source": [
    "## Dropping Unnecessary Columns"
   ]
  },
  {
   "cell_type": "code",
   "execution_count": 5,
   "id": "2faa115b-8571-4277-aedf-13b1696b853f",
   "metadata": {},
   "outputs": [
    {
     "name": "stdout",
     "output_type": "stream",
     "text": [
      "11\n"
     ]
    }
   ],
   "source": [
    "cols_to_drop = ['id', 'zip_code', 'age_bracket', 'income_group', 'cc_avg_group', 'education_level', 'mortgage_group', 'housing_to_income_group', 'total_customer_products', 'cc_to_income_group',\n",
    "                'income_per_family_member_group']\n",
    "print(len(cols_to_drop))"
   ]
  },
  {
   "cell_type": "code",
   "execution_count": 6,
   "id": "0938572c-9d92-4255-a335-26e924385231",
   "metadata": {},
   "outputs": [],
   "source": [
    "df = df.drop(columns = cols_to_drop)"
   ]
  },
  {
   "cell_type": "code",
   "execution_count": 7,
   "id": "81823fe7-914a-4ccb-a85f-183ba1f5da0f",
   "metadata": {},
   "outputs": [
    {
     "data": {
      "text/html": [
       "<div>\n",
       "<style scoped>\n",
       "    .dataframe tbody tr th:only-of-type {\n",
       "        vertical-align: middle;\n",
       "    }\n",
       "\n",
       "    .dataframe tbody tr th {\n",
       "        vertical-align: top;\n",
       "    }\n",
       "\n",
       "    .dataframe thead th {\n",
       "        text-align: right;\n",
       "    }\n",
       "</style>\n",
       "<table border=\"1\" class=\"dataframe\">\n",
       "  <thead>\n",
       "    <tr style=\"text-align: right;\">\n",
       "      <th></th>\n",
       "      <th>age</th>\n",
       "      <th>experience</th>\n",
       "      <th>income</th>\n",
       "      <th>family</th>\n",
       "      <th>cc_avg</th>\n",
       "      <th>education</th>\n",
       "      <th>mortgage</th>\n",
       "      <th>personal_loan</th>\n",
       "      <th>securities_account</th>\n",
       "      <th>cd_account</th>\n",
       "      <th>online_banking</th>\n",
       "      <th>credit_card</th>\n",
       "    </tr>\n",
       "  </thead>\n",
       "  <tbody>\n",
       "    <tr>\n",
       "      <th>0</th>\n",
       "      <td>25</td>\n",
       "      <td>1</td>\n",
       "      <td>49</td>\n",
       "      <td>4</td>\n",
       "      <td>1.6</td>\n",
       "      <td>1</td>\n",
       "      <td>0</td>\n",
       "      <td>0</td>\n",
       "      <td>1</td>\n",
       "      <td>0</td>\n",
       "      <td>0</td>\n",
       "      <td>0</td>\n",
       "    </tr>\n",
       "    <tr>\n",
       "      <th>1</th>\n",
       "      <td>45</td>\n",
       "      <td>19</td>\n",
       "      <td>34</td>\n",
       "      <td>3</td>\n",
       "      <td>1.5</td>\n",
       "      <td>1</td>\n",
       "      <td>0</td>\n",
       "      <td>0</td>\n",
       "      <td>1</td>\n",
       "      <td>0</td>\n",
       "      <td>0</td>\n",
       "      <td>0</td>\n",
       "    </tr>\n",
       "    <tr>\n",
       "      <th>2</th>\n",
       "      <td>39</td>\n",
       "      <td>15</td>\n",
       "      <td>11</td>\n",
       "      <td>1</td>\n",
       "      <td>1.0</td>\n",
       "      <td>1</td>\n",
       "      <td>0</td>\n",
       "      <td>0</td>\n",
       "      <td>0</td>\n",
       "      <td>0</td>\n",
       "      <td>0</td>\n",
       "      <td>0</td>\n",
       "    </tr>\n",
       "    <tr>\n",
       "      <th>3</th>\n",
       "      <td>35</td>\n",
       "      <td>9</td>\n",
       "      <td>100</td>\n",
       "      <td>1</td>\n",
       "      <td>2.7</td>\n",
       "      <td>2</td>\n",
       "      <td>0</td>\n",
       "      <td>0</td>\n",
       "      <td>0</td>\n",
       "      <td>0</td>\n",
       "      <td>0</td>\n",
       "      <td>0</td>\n",
       "    </tr>\n",
       "    <tr>\n",
       "      <th>4</th>\n",
       "      <td>35</td>\n",
       "      <td>8</td>\n",
       "      <td>45</td>\n",
       "      <td>4</td>\n",
       "      <td>1.0</td>\n",
       "      <td>2</td>\n",
       "      <td>0</td>\n",
       "      <td>0</td>\n",
       "      <td>0</td>\n",
       "      <td>0</td>\n",
       "      <td>0</td>\n",
       "      <td>1</td>\n",
       "    </tr>\n",
       "  </tbody>\n",
       "</table>\n",
       "</div>"
      ],
      "text/plain": [
       "   age  experience  income  family  cc_avg  education  mortgage  \\\n",
       "0   25           1      49       4     1.6          1         0   \n",
       "1   45          19      34       3     1.5          1         0   \n",
       "2   39          15      11       1     1.0          1         0   \n",
       "3   35           9     100       1     2.7          2         0   \n",
       "4   35           8      45       4     1.0          2         0   \n",
       "\n",
       "   personal_loan  securities_account  cd_account  online_banking  credit_card  \n",
       "0              0                   1           0               0            0  \n",
       "1              0                   1           0               0            0  \n",
       "2              0                   0           0               0            0  \n",
       "3              0                   0           0               0            0  \n",
       "4              0                   0           0               0            1  "
      ]
     },
     "execution_count": 7,
     "metadata": {},
     "output_type": "execute_result"
    }
   ],
   "source": [
    "df.head()"
   ]
  },
  {
   "cell_type": "code",
   "execution_count": 8,
   "id": "544ad10e-fcfd-4d7c-8c72-33d167900150",
   "metadata": {},
   "outputs": [
    {
     "name": "stdout",
     "output_type": "stream",
     "text": [
      "<class 'pandas.core.frame.DataFrame'>\n",
      "RangeIndex: 5000 entries, 0 to 4999\n",
      "Data columns (total 12 columns):\n",
      " #   Column              Non-Null Count  Dtype  \n",
      "---  ------              --------------  -----  \n",
      " 0   age                 5000 non-null   int64  \n",
      " 1   experience          5000 non-null   int64  \n",
      " 2   income              5000 non-null   int64  \n",
      " 3   family              5000 non-null   int64  \n",
      " 4   cc_avg              5000 non-null   float64\n",
      " 5   education           5000 non-null   int64  \n",
      " 6   mortgage            5000 non-null   int64  \n",
      " 7   personal_loan       5000 non-null   int64  \n",
      " 8   securities_account  5000 non-null   int64  \n",
      " 9   cd_account          5000 non-null   int64  \n",
      " 10  online_banking      5000 non-null   int64  \n",
      " 11  credit_card         5000 non-null   int64  \n",
      "dtypes: float64(1), int64(11)\n",
      "memory usage: 468.9 KB\n"
     ]
    }
   ],
   "source": [
    "df.info()"
   ]
  },
  {
   "cell_type": "markdown",
   "id": "9e2585ae-6c35-4a94-94cb-0074bd705b32",
   "metadata": {},
   "source": [
    "## Identifying any Null Values"
   ]
  },
  {
   "cell_type": "code",
   "execution_count": 9,
   "id": "935ea1f0-8f43-4c4d-88fb-773b31a46921",
   "metadata": {},
   "outputs": [
    {
     "data": {
      "text/plain": [
       "age                   0\n",
       "experience            0\n",
       "income                0\n",
       "family                0\n",
       "cc_avg                0\n",
       "education             0\n",
       "mortgage              0\n",
       "personal_loan         0\n",
       "securities_account    0\n",
       "cd_account            0\n",
       "online_banking        0\n",
       "credit_card           0\n",
       "dtype: int64"
      ]
     },
     "execution_count": 9,
     "metadata": {},
     "output_type": "execute_result"
    }
   ],
   "source": [
    "df.isnull().sum()"
   ]
  },
  {
   "cell_type": "markdown",
   "id": "95a765d4-5298-475a-803f-94cda4f1a89a",
   "metadata": {},
   "source": [
    "## Separating features (X) and target (y)"
   ]
  },
  {
   "cell_type": "code",
   "execution_count": 10,
   "id": "52e8c6af-34ae-4204-9e76-77f13e6fff84",
   "metadata": {},
   "outputs": [],
   "source": [
    "X = df.drop('personal_loan', axis = 1)\n",
    "y = df['personal_loan']"
   ]
  },
  {
   "cell_type": "markdown",
   "id": "f0b504a5-9ad8-4e27-83ff-338073b10a8e",
   "metadata": {},
   "source": [
    "## Handling Categorical variables"
   ]
  },
  {
   "cell_type": "code",
   "execution_count": 11,
   "id": "c4d55b20-b73c-46b8-a044-e0b1c951261a",
   "metadata": {},
   "outputs": [],
   "source": [
    "education_mapping = {1: 'Undergrad', 2: 'Graduate', 3: 'Professional'}\n",
    "X['education'] = X['education'].map(education_mapping)\n",
    "\n",
    "family_mapping = {1: 'Size_1', 2: 'Size_2', 3: 'Size_3', 4: 'Size_4'}\n",
    "X['family'] = X['family'].map(family_mapping)\n",
    "\n",
    "X = pd.get_dummies(X, columns = ['education', 'family'], drop_first = True)"
   ]
  },
  {
   "cell_type": "code",
   "execution_count": 12,
   "id": "ec19d256-c236-4d49-a528-8ebd088b0ecf",
   "metadata": {},
   "outputs": [
    {
     "data": {
      "text/html": [
       "<div>\n",
       "<style scoped>\n",
       "    .dataframe tbody tr th:only-of-type {\n",
       "        vertical-align: middle;\n",
       "    }\n",
       "\n",
       "    .dataframe tbody tr th {\n",
       "        vertical-align: top;\n",
       "    }\n",
       "\n",
       "    .dataframe thead th {\n",
       "        text-align: right;\n",
       "    }\n",
       "</style>\n",
       "<table border=\"1\" class=\"dataframe\">\n",
       "  <thead>\n",
       "    <tr style=\"text-align: right;\">\n",
       "      <th></th>\n",
       "      <th>age</th>\n",
       "      <th>experience</th>\n",
       "      <th>income</th>\n",
       "      <th>cc_avg</th>\n",
       "      <th>mortgage</th>\n",
       "      <th>securities_account</th>\n",
       "      <th>cd_account</th>\n",
       "      <th>online_banking</th>\n",
       "      <th>credit_card</th>\n",
       "      <th>education_Professional</th>\n",
       "      <th>education_Undergrad</th>\n",
       "      <th>family_Size_2</th>\n",
       "      <th>family_Size_3</th>\n",
       "      <th>family_Size_4</th>\n",
       "    </tr>\n",
       "  </thead>\n",
       "  <tbody>\n",
       "    <tr>\n",
       "      <th>0</th>\n",
       "      <td>25</td>\n",
       "      <td>1</td>\n",
       "      <td>49</td>\n",
       "      <td>1.6</td>\n",
       "      <td>0</td>\n",
       "      <td>1</td>\n",
       "      <td>0</td>\n",
       "      <td>0</td>\n",
       "      <td>0</td>\n",
       "      <td>False</td>\n",
       "      <td>True</td>\n",
       "      <td>False</td>\n",
       "      <td>False</td>\n",
       "      <td>True</td>\n",
       "    </tr>\n",
       "    <tr>\n",
       "      <th>1</th>\n",
       "      <td>45</td>\n",
       "      <td>19</td>\n",
       "      <td>34</td>\n",
       "      <td>1.5</td>\n",
       "      <td>0</td>\n",
       "      <td>1</td>\n",
       "      <td>0</td>\n",
       "      <td>0</td>\n",
       "      <td>0</td>\n",
       "      <td>False</td>\n",
       "      <td>True</td>\n",
       "      <td>False</td>\n",
       "      <td>True</td>\n",
       "      <td>False</td>\n",
       "    </tr>\n",
       "    <tr>\n",
       "      <th>2</th>\n",
       "      <td>39</td>\n",
       "      <td>15</td>\n",
       "      <td>11</td>\n",
       "      <td>1.0</td>\n",
       "      <td>0</td>\n",
       "      <td>0</td>\n",
       "      <td>0</td>\n",
       "      <td>0</td>\n",
       "      <td>0</td>\n",
       "      <td>False</td>\n",
       "      <td>True</td>\n",
       "      <td>False</td>\n",
       "      <td>False</td>\n",
       "      <td>False</td>\n",
       "    </tr>\n",
       "    <tr>\n",
       "      <th>3</th>\n",
       "      <td>35</td>\n",
       "      <td>9</td>\n",
       "      <td>100</td>\n",
       "      <td>2.7</td>\n",
       "      <td>0</td>\n",
       "      <td>0</td>\n",
       "      <td>0</td>\n",
       "      <td>0</td>\n",
       "      <td>0</td>\n",
       "      <td>False</td>\n",
       "      <td>False</td>\n",
       "      <td>False</td>\n",
       "      <td>False</td>\n",
       "      <td>False</td>\n",
       "    </tr>\n",
       "    <tr>\n",
       "      <th>4</th>\n",
       "      <td>35</td>\n",
       "      <td>8</td>\n",
       "      <td>45</td>\n",
       "      <td>1.0</td>\n",
       "      <td>0</td>\n",
       "      <td>0</td>\n",
       "      <td>0</td>\n",
       "      <td>0</td>\n",
       "      <td>1</td>\n",
       "      <td>False</td>\n",
       "      <td>False</td>\n",
       "      <td>False</td>\n",
       "      <td>False</td>\n",
       "      <td>True</td>\n",
       "    </tr>\n",
       "  </tbody>\n",
       "</table>\n",
       "</div>"
      ],
      "text/plain": [
       "   age  experience  income  cc_avg  mortgage  securities_account  cd_account  \\\n",
       "0   25           1      49     1.6         0                   1           0   \n",
       "1   45          19      34     1.5         0                   1           0   \n",
       "2   39          15      11     1.0         0                   0           0   \n",
       "3   35           9     100     2.7         0                   0           0   \n",
       "4   35           8      45     1.0         0                   0           0   \n",
       "\n",
       "   online_banking  credit_card  education_Professional  education_Undergrad  \\\n",
       "0               0            0                   False                 True   \n",
       "1               0            0                   False                 True   \n",
       "2               0            0                   False                 True   \n",
       "3               0            0                   False                False   \n",
       "4               0            1                   False                False   \n",
       "\n",
       "   family_Size_2  family_Size_3  family_Size_4  \n",
       "0          False          False           True  \n",
       "1          False           True          False  \n",
       "2          False          False          False  \n",
       "3          False          False          False  \n",
       "4          False          False           True  "
      ]
     },
     "execution_count": 12,
     "metadata": {},
     "output_type": "execute_result"
    }
   ],
   "source": [
    "X.head()"
   ]
  },
  {
   "cell_type": "code",
   "execution_count": 13,
   "id": "78e65c44-8a41-4fc2-923d-1eb1b049b8c9",
   "metadata": {},
   "outputs": [
    {
     "name": "stdout",
     "output_type": "stream",
     "text": [
      "<class 'pandas.core.frame.DataFrame'>\n",
      "RangeIndex: 5000 entries, 0 to 4999\n",
      "Data columns (total 14 columns):\n",
      " #   Column                  Non-Null Count  Dtype  \n",
      "---  ------                  --------------  -----  \n",
      " 0   age                     5000 non-null   int64  \n",
      " 1   experience              5000 non-null   int64  \n",
      " 2   income                  5000 non-null   int64  \n",
      " 3   cc_avg                  5000 non-null   float64\n",
      " 4   mortgage                5000 non-null   int64  \n",
      " 5   securities_account      5000 non-null   int64  \n",
      " 6   cd_account              5000 non-null   int64  \n",
      " 7   online_banking          5000 non-null   int64  \n",
      " 8   credit_card             5000 non-null   int64  \n",
      " 9   education_Professional  5000 non-null   bool   \n",
      " 10  education_Undergrad     5000 non-null   bool   \n",
      " 11  family_Size_2           5000 non-null   bool   \n",
      " 12  family_Size_3           5000 non-null   bool   \n",
      " 13  family_Size_4           5000 non-null   bool   \n",
      "dtypes: bool(5), float64(1), int64(8)\n",
      "memory usage: 376.1 KB\n"
     ]
    }
   ],
   "source": [
    "X.info()"
   ]
  },
  {
   "cell_type": "code",
   "execution_count": 14,
   "id": "dacc849a-db42-41c0-8ec2-8a521b9745e2",
   "metadata": {},
   "outputs": [],
   "source": [
    "X = X.astype({col: 'int64' for col in X.select_dtypes('bool').columns})"
   ]
  },
  {
   "cell_type": "code",
   "execution_count": 15,
   "id": "b3c7d585-a8fb-49db-8773-71ba0d83ddb3",
   "metadata": {},
   "outputs": [
    {
     "data": {
      "text/html": [
       "<div>\n",
       "<style scoped>\n",
       "    .dataframe tbody tr th:only-of-type {\n",
       "        vertical-align: middle;\n",
       "    }\n",
       "\n",
       "    .dataframe tbody tr th {\n",
       "        vertical-align: top;\n",
       "    }\n",
       "\n",
       "    .dataframe thead th {\n",
       "        text-align: right;\n",
       "    }\n",
       "</style>\n",
       "<table border=\"1\" class=\"dataframe\">\n",
       "  <thead>\n",
       "    <tr style=\"text-align: right;\">\n",
       "      <th></th>\n",
       "      <th>age</th>\n",
       "      <th>experience</th>\n",
       "      <th>income</th>\n",
       "      <th>cc_avg</th>\n",
       "      <th>mortgage</th>\n",
       "      <th>securities_account</th>\n",
       "      <th>cd_account</th>\n",
       "      <th>online_banking</th>\n",
       "      <th>credit_card</th>\n",
       "      <th>education_Professional</th>\n",
       "      <th>education_Undergrad</th>\n",
       "      <th>family_Size_2</th>\n",
       "      <th>family_Size_3</th>\n",
       "      <th>family_Size_4</th>\n",
       "    </tr>\n",
       "  </thead>\n",
       "  <tbody>\n",
       "    <tr>\n",
       "      <th>0</th>\n",
       "      <td>25</td>\n",
       "      <td>1</td>\n",
       "      <td>49</td>\n",
       "      <td>1.6</td>\n",
       "      <td>0</td>\n",
       "      <td>1</td>\n",
       "      <td>0</td>\n",
       "      <td>0</td>\n",
       "      <td>0</td>\n",
       "      <td>0</td>\n",
       "      <td>1</td>\n",
       "      <td>0</td>\n",
       "      <td>0</td>\n",
       "      <td>1</td>\n",
       "    </tr>\n",
       "    <tr>\n",
       "      <th>1</th>\n",
       "      <td>45</td>\n",
       "      <td>19</td>\n",
       "      <td>34</td>\n",
       "      <td>1.5</td>\n",
       "      <td>0</td>\n",
       "      <td>1</td>\n",
       "      <td>0</td>\n",
       "      <td>0</td>\n",
       "      <td>0</td>\n",
       "      <td>0</td>\n",
       "      <td>1</td>\n",
       "      <td>0</td>\n",
       "      <td>1</td>\n",
       "      <td>0</td>\n",
       "    </tr>\n",
       "    <tr>\n",
       "      <th>2</th>\n",
       "      <td>39</td>\n",
       "      <td>15</td>\n",
       "      <td>11</td>\n",
       "      <td>1.0</td>\n",
       "      <td>0</td>\n",
       "      <td>0</td>\n",
       "      <td>0</td>\n",
       "      <td>0</td>\n",
       "      <td>0</td>\n",
       "      <td>0</td>\n",
       "      <td>1</td>\n",
       "      <td>0</td>\n",
       "      <td>0</td>\n",
       "      <td>0</td>\n",
       "    </tr>\n",
       "    <tr>\n",
       "      <th>3</th>\n",
       "      <td>35</td>\n",
       "      <td>9</td>\n",
       "      <td>100</td>\n",
       "      <td>2.7</td>\n",
       "      <td>0</td>\n",
       "      <td>0</td>\n",
       "      <td>0</td>\n",
       "      <td>0</td>\n",
       "      <td>0</td>\n",
       "      <td>0</td>\n",
       "      <td>0</td>\n",
       "      <td>0</td>\n",
       "      <td>0</td>\n",
       "      <td>0</td>\n",
       "    </tr>\n",
       "    <tr>\n",
       "      <th>4</th>\n",
       "      <td>35</td>\n",
       "      <td>8</td>\n",
       "      <td>45</td>\n",
       "      <td>1.0</td>\n",
       "      <td>0</td>\n",
       "      <td>0</td>\n",
       "      <td>0</td>\n",
       "      <td>0</td>\n",
       "      <td>1</td>\n",
       "      <td>0</td>\n",
       "      <td>0</td>\n",
       "      <td>0</td>\n",
       "      <td>0</td>\n",
       "      <td>1</td>\n",
       "    </tr>\n",
       "  </tbody>\n",
       "</table>\n",
       "</div>"
      ],
      "text/plain": [
       "   age  experience  income  cc_avg  mortgage  securities_account  cd_account  \\\n",
       "0   25           1      49     1.6         0                   1           0   \n",
       "1   45          19      34     1.5         0                   1           0   \n",
       "2   39          15      11     1.0         0                   0           0   \n",
       "3   35           9     100     2.7         0                   0           0   \n",
       "4   35           8      45     1.0         0                   0           0   \n",
       "\n",
       "   online_banking  credit_card  education_Professional  education_Undergrad  \\\n",
       "0               0            0                       0                    1   \n",
       "1               0            0                       0                    1   \n",
       "2               0            0                       0                    1   \n",
       "3               0            0                       0                    0   \n",
       "4               0            1                       0                    0   \n",
       "\n",
       "   family_Size_2  family_Size_3  family_Size_4  \n",
       "0              0              0              1  \n",
       "1              0              1              0  \n",
       "2              0              0              0  \n",
       "3              0              0              0  \n",
       "4              0              0              1  "
      ]
     },
     "execution_count": 15,
     "metadata": {},
     "output_type": "execute_result"
    }
   ],
   "source": [
    "X.head()"
   ]
  },
  {
   "cell_type": "markdown",
   "id": "3202c042-5f30-4e21-8197-7f9413fc16f1",
   "metadata": {},
   "source": [
    "## Splitting data into training and testing splits"
   ]
  },
  {
   "cell_type": "code",
   "execution_count": 16,
   "id": "a5ad1a3a-4923-4566-9832-3d5198d913ad",
   "metadata": {},
   "outputs": [],
   "source": [
    "X_train, X_test, y_train, y_test = train_test_split(X, y, test_size = 0.2, random_state = 42, stratify = y)"
   ]
  },
  {
   "cell_type": "markdown",
   "id": "f0421261-4b71-418e-ae60-a14a480fa74a",
   "metadata": {},
   "source": [
    "## Scaling Numeric features (non boolean treated columns)"
   ]
  },
  {
   "cell_type": "code",
   "execution_count": 17,
   "id": "5c675706-ccfb-48b8-909f-addc1652034b",
   "metadata": {},
   "outputs": [],
   "source": [
    "numeric_cols = ['age', 'experience', 'income', 'cc_avg', 'mortgage']\n",
    "scaler = StandardScaler()\n",
    "X_train[numeric_cols] = scaler.fit_transform(X_train[numeric_cols])\n",
    "X_test[numeric_cols] = scaler.fit_transform(X_test[numeric_cols])"
   ]
  },
  {
   "cell_type": "markdown",
   "id": "38635c4c-cd07-4848-9cc1-c4c6295bcf95",
   "metadata": {},
   "source": [
    "# Initial Model development"
   ]
  },
  {
   "cell_type": "markdown",
   "id": "f01ed2da-e3d5-4562-8d87-f118549db8d7",
   "metadata": {},
   "source": [
    "## Defining and Initializing Models"
   ]
  },
  {
   "cell_type": "code",
   "execution_count": 18,
   "id": "7b1696c1-c68a-47c9-94f8-dcfc89a904b6",
   "metadata": {},
   "outputs": [],
   "source": [
    "models = {\n",
    "    \"Logistic Regression\": LogisticRegression(max_iter = 1000, random_state = 42),\n",
    "    \"Random Forest\": RandomForestClassifier(random_state = 42),\n",
    "    \"Gradient Boosting\": GradientBoostingClassifier(random_state = 42),\n",
    "    \"KNN\": KNeighborsClassifier(n_neighbors = 5),\n",
    "    \"Decision Tree\": DecisionTreeClassifier(random_state = 42)\n",
    "}\n",
    "models_results = []"
   ]
  },
  {
   "cell_type": "markdown",
   "id": "35faf9cd-5250-4d0d-8746-529e2b7a7558",
   "metadata": {},
   "source": [
    "## Training, Predicting and Evaluating each Model"
   ]
  },
  {
   "cell_type": "code",
   "execution_count": 19,
   "id": "6e5fe483-be80-4b59-bcd9-35335301ff2f",
   "metadata": {},
   "outputs": [
    {
     "name": "stdout",
     "output_type": "stream",
     "text": [
      "Training Logistic Regression!\n",
      "Training Random Forest!\n",
      "Training Gradient Boosting!\n",
      "Training KNN!\n",
      "Training Decision Tree!\n"
     ]
    }
   ],
   "source": [
    "for name, model in models.items():\n",
    "    print(f\"Training {name}!\")\n",
    "    \n",
    "    #Training each Model\n",
    "    model.fit(X_train, y_train) \n",
    "\n",
    "    #Predicting results of each Model\n",
    "    y_pred = model.predict(X_test)\n",
    "    y_prob = model.predict_proba(X_test)[:, 1] if hasattr(model, \"predict_proba\") else y_pred\n",
    "\n",
    "    #Evaluating each Model performance\n",
    "    report = classification_report(y_test, y_pred, output_dict = True)\n",
    "    accuracy = report['accuracy']\n",
    "    roc_auc = roc_auc_score(y_test, y_prob)\n",
    "\n",
    "    #Storing evaluating results of each Model in a predefined list\n",
    "    models_results.append({\n",
    "        \"Model\": name,\n",
    "        \"Precision_0\": report['0']['precision'],\n",
    "        \"Recall_0\": report['0']['recall'],\n",
    "        \"F1-Score_0\": report['0']['f1-score'],\n",
    "        \"Precision_1\": report['1']['precision'],\n",
    "        \"Recall_1\": report['1']['recall'],\n",
    "        \"F1-Score_1\": report['1']['f1-score'],\n",
    "        \"Accuracy\": accuracy,\n",
    "        \"ROC-AUC\": roc_auc\n",
    "    })"
   ]
  },
  {
   "cell_type": "markdown",
   "id": "c18e068c-ed27-4bf3-b0db-da533cfed598",
   "metadata": {},
   "source": [
    "## Converting results to a DataFrame"
   ]
  },
  {
   "cell_type": "code",
   "execution_count": 20,
   "id": "95f1c83a-c977-4998-b55e-27420ad25131",
   "metadata": {},
   "outputs": [],
   "source": [
    "models_results_df = pd.DataFrame(models_results)\n",
    "models_results_df = models_results_df.sort_values(by = \"F1-Score_1\", ascending = False)"
   ]
  },
  {
   "cell_type": "markdown",
   "id": "47ef9bbb-7d18-4e5f-b764-0b1ae25a506b",
   "metadata": {},
   "source": [
    "## Comparing Results"
   ]
  },
  {
   "cell_type": "code",
   "execution_count": 21,
   "id": "5002202b-8be2-4214-9302-b16c56315f53",
   "metadata": {},
   "outputs": [
    {
     "data": {
      "text/html": [
       "<div>\n",
       "<style scoped>\n",
       "    .dataframe tbody tr th:only-of-type {\n",
       "        vertical-align: middle;\n",
       "    }\n",
       "\n",
       "    .dataframe tbody tr th {\n",
       "        vertical-align: top;\n",
       "    }\n",
       "\n",
       "    .dataframe thead th {\n",
       "        text-align: right;\n",
       "    }\n",
       "</style>\n",
       "<table border=\"1\" class=\"dataframe\">\n",
       "  <thead>\n",
       "    <tr style=\"text-align: right;\">\n",
       "      <th></th>\n",
       "      <th>Model</th>\n",
       "      <th>Precision_0</th>\n",
       "      <th>Recall_0</th>\n",
       "      <th>F1-Score_0</th>\n",
       "      <th>Precision_1</th>\n",
       "      <th>Recall_1</th>\n",
       "      <th>F1-Score_1</th>\n",
       "      <th>Accuracy</th>\n",
       "      <th>ROC-AUC</th>\n",
       "    </tr>\n",
       "  </thead>\n",
       "  <tbody>\n",
       "    <tr>\n",
       "      <th>1</th>\n",
       "      <td>Random Forest</td>\n",
       "      <td>0.993385</td>\n",
       "      <td>0.996681</td>\n",
       "      <td>0.995030</td>\n",
       "      <td>0.967742</td>\n",
       "      <td>0.937500</td>\n",
       "      <td>0.952381</td>\n",
       "      <td>0.991</td>\n",
       "      <td>0.998479</td>\n",
       "    </tr>\n",
       "    <tr>\n",
       "      <th>2</th>\n",
       "      <td>Gradient Boosting</td>\n",
       "      <td>0.995541</td>\n",
       "      <td>0.987832</td>\n",
       "      <td>0.991671</td>\n",
       "      <td>0.893204</td>\n",
       "      <td>0.958333</td>\n",
       "      <td>0.924623</td>\n",
       "      <td>0.985</td>\n",
       "      <td>0.998387</td>\n",
       "    </tr>\n",
       "    <tr>\n",
       "      <th>4</th>\n",
       "      <td>Decision Tree</td>\n",
       "      <td>0.992161</td>\n",
       "      <td>0.980088</td>\n",
       "      <td>0.986088</td>\n",
       "      <td>0.831776</td>\n",
       "      <td>0.927083</td>\n",
       "      <td>0.876847</td>\n",
       "      <td>0.975</td>\n",
       "      <td>0.953586</td>\n",
       "    </tr>\n",
       "    <tr>\n",
       "      <th>0</th>\n",
       "      <td>Logistic Regression</td>\n",
       "      <td>0.963362</td>\n",
       "      <td>0.988938</td>\n",
       "      <td>0.975983</td>\n",
       "      <td>0.861111</td>\n",
       "      <td>0.645833</td>\n",
       "      <td>0.738095</td>\n",
       "      <td>0.956</td>\n",
       "      <td>0.966215</td>\n",
       "    </tr>\n",
       "    <tr>\n",
       "      <th>3</th>\n",
       "      <td>KNN</td>\n",
       "      <td>0.954497</td>\n",
       "      <td>0.997788</td>\n",
       "      <td>0.975663</td>\n",
       "      <td>0.963636</td>\n",
       "      <td>0.552083</td>\n",
       "      <td>0.701987</td>\n",
       "      <td>0.955</td>\n",
       "      <td>0.927948</td>\n",
       "    </tr>\n",
       "  </tbody>\n",
       "</table>\n",
       "</div>"
      ],
      "text/plain": [
       "                 Model  Precision_0  Recall_0  F1-Score_0  Precision_1  \\\n",
       "1        Random Forest     0.993385  0.996681    0.995030     0.967742   \n",
       "2    Gradient Boosting     0.995541  0.987832    0.991671     0.893204   \n",
       "4        Decision Tree     0.992161  0.980088    0.986088     0.831776   \n",
       "0  Logistic Regression     0.963362  0.988938    0.975983     0.861111   \n",
       "3                  KNN     0.954497  0.997788    0.975663     0.963636   \n",
       "\n",
       "   Recall_1  F1-Score_1  Accuracy   ROC-AUC  \n",
       "1  0.937500    0.952381     0.991  0.998479  \n",
       "2  0.958333    0.924623     0.985  0.998387  \n",
       "4  0.927083    0.876847     0.975  0.953586  \n",
       "0  0.645833    0.738095     0.956  0.966215  \n",
       "3  0.552083    0.701987     0.955  0.927948  "
      ]
     },
     "execution_count": 21,
     "metadata": {},
     "output_type": "execute_result"
    }
   ],
   "source": [
    "models_results_df"
   ]
  },
  {
   "cell_type": "markdown",
   "id": "558462bf-f4f7-49af-a036-f9d0e691c4d3",
   "metadata": {},
   "source": [
    "# Model Redevelopment with Class Balancing"
   ]
  },
  {
   "cell_type": "markdown",
   "id": "ea7ecade-2a3f-45b6-afff-431523bc0f28",
   "metadata": {},
   "source": [
    "## Defining and Initializing Models"
   ]
  },
  {
   "cell_type": "code",
   "execution_count": 22,
   "id": "6f73c785-8c9b-46d7-923c-4b122fcc1e56",
   "metadata": {},
   "outputs": [],
   "source": [
    "models_balanced = {\n",
    "    \"Logistic Regression\": LogisticRegression(max_iter = 1000, random_state = 42, class_weight = 'balanced'),\n",
    "    \"Random Forest\": RandomForestClassifier(random_state = 42, class_weight = 'balanced'),\n",
    "    \"Gradient Boosting\": GradientBoostingClassifier(random_state = 42),\n",
    "    \"KNN\": KNeighborsClassifier(n_neighbors = 5),\n",
    "    \"Decision Tree\": DecisionTreeClassifier(random_state = 42, class_weight = 'balanced')\n",
    "}"
   ]
  },
  {
   "cell_type": "markdown",
   "id": "346fb847-c4c3-4766-9675-2af28c4f55c2",
   "metadata": {},
   "source": [
    "## Initializing SMOTE balancer"
   ]
  },
  {
   "cell_type": "code",
   "execution_count": 23,
   "id": "b01b887d-6b7b-460c-bcbe-2cecf7b1359e",
   "metadata": {},
   "outputs": [],
   "source": [
    "smote = SMOTE(random_state = 42)"
   ]
  },
  {
   "cell_type": "markdown",
   "id": "9bfe3d29-ed16-4b04-92e9-282b08c5849a",
   "metadata": {},
   "source": [
    "## Training, Predicting and Evaluating each Rebalanced Model"
   ]
  },
  {
   "cell_type": "code",
   "execution_count": 24,
   "id": "81c2c5b4-05eb-4f01-a39e-7834c68f9dc6",
   "metadata": {},
   "outputs": [
    {
     "name": "stdout",
     "output_type": "stream",
     "text": [
      "Training Logistic Regression!\n",
      "Training Random Forest!\n",
      "Training Gradient Boosting!\n",
      "Training KNN!\n",
      "Training Decision Tree!\n"
     ]
    }
   ],
   "source": [
    "models_balanced_results = []\n",
    "for name, model in models.items():\n",
    "    print(f\"Training {name}!\")\n",
    "    \n",
    "    #Training each Model\n",
    "    if name in [\"Gradient Boosting\", \"KNN\"]:\n",
    "        X_train_res, y_train_res = smote.fit_resample(X_train, y_train)\n",
    "        model.fit(X_train_res, y_train_res)\n",
    "    else:\n",
    "        model.fit(X_train, y_train) \n",
    "\n",
    "    #Predicting results of each Model\n",
    "    y_pred = model.predict(X_test)\n",
    "    y_prob = model.predict_proba(X_test)[:, 1] if hasattr(model, \"predict_proba\") else y_pred\n",
    "\n",
    "    #Evaluating each Model performance\n",
    "    report = classification_report(y_test, y_pred, output_dict = True)\n",
    "    accuracy = report['accuracy']\n",
    "    roc_auc = roc_auc_score(y_test, y_prob)\n",
    "\n",
    "    #Storing evaluating results of each Model in a predefined list\n",
    "    models_balanced_results.append({\n",
    "        \"Model\": name,\n",
    "        \"Precision_0\": report['0']['precision'],\n",
    "        \"Recall_0\": report['0']['recall'],\n",
    "        \"F1-Score_0\": report['0']['f1-score'],\n",
    "        \"Precision_1\": report['1']['precision'],\n",
    "        \"Recall_1\": report['1']['recall'],\n",
    "        \"F1-Score_1\": report['1']['f1-score'],\n",
    "        \"Accuracy\": accuracy,\n",
    "        \"ROC-AUC\": roc_auc\n",
    "    })"
   ]
  },
  {
   "cell_type": "markdown",
   "id": "9fb4969d-dea4-44fd-b778-29ef68b5b243",
   "metadata": {},
   "source": [
    "## Converting results to a DataFrame"
   ]
  },
  {
   "cell_type": "code",
   "execution_count": 25,
   "id": "345f1f5d-3b56-49b5-bb46-efa08842c98f",
   "metadata": {},
   "outputs": [],
   "source": [
    "models_balanced_results_df = pd.DataFrame(models_balanced_results)\n",
    "models_balanced_results_df = models_balanced_results_df.sort_values(by = \"F1-Score_1\", ascending = False)"
   ]
  },
  {
   "cell_type": "markdown",
   "id": "1a5f30af-e72e-47a3-9197-3ade0f8f0ba7",
   "metadata": {},
   "source": [
    "## Comparing Results"
   ]
  },
  {
   "cell_type": "code",
   "execution_count": 26,
   "id": "87e5f166-e2ce-4fc3-8848-ac7eabc81adb",
   "metadata": {},
   "outputs": [
    {
     "data": {
      "text/html": [
       "<div>\n",
       "<style scoped>\n",
       "    .dataframe tbody tr th:only-of-type {\n",
       "        vertical-align: middle;\n",
       "    }\n",
       "\n",
       "    .dataframe tbody tr th {\n",
       "        vertical-align: top;\n",
       "    }\n",
       "\n",
       "    .dataframe thead th {\n",
       "        text-align: right;\n",
       "    }\n",
       "</style>\n",
       "<table border=\"1\" class=\"dataframe\">\n",
       "  <thead>\n",
       "    <tr style=\"text-align: right;\">\n",
       "      <th></th>\n",
       "      <th>Model</th>\n",
       "      <th>Precision_0</th>\n",
       "      <th>Recall_0</th>\n",
       "      <th>F1-Score_0</th>\n",
       "      <th>Precision_1</th>\n",
       "      <th>Recall_1</th>\n",
       "      <th>F1-Score_1</th>\n",
       "      <th>Accuracy</th>\n",
       "      <th>ROC-AUC</th>\n",
       "    </tr>\n",
       "  </thead>\n",
       "  <tbody>\n",
       "    <tr>\n",
       "      <th>1</th>\n",
       "      <td>Random Forest</td>\n",
       "      <td>0.993385</td>\n",
       "      <td>0.996681</td>\n",
       "      <td>0.995030</td>\n",
       "      <td>0.967742</td>\n",
       "      <td>0.937500</td>\n",
       "      <td>0.952381</td>\n",
       "      <td>0.991</td>\n",
       "      <td>0.998479</td>\n",
       "    </tr>\n",
       "    <tr>\n",
       "      <th>2</th>\n",
       "      <td>Gradient Boosting</td>\n",
       "      <td>0.997740</td>\n",
       "      <td>0.976770</td>\n",
       "      <td>0.987144</td>\n",
       "      <td>0.817391</td>\n",
       "      <td>0.979167</td>\n",
       "      <td>0.890995</td>\n",
       "      <td>0.977</td>\n",
       "      <td>0.997269</td>\n",
       "    </tr>\n",
       "    <tr>\n",
       "      <th>4</th>\n",
       "      <td>Decision Tree</td>\n",
       "      <td>0.992161</td>\n",
       "      <td>0.980088</td>\n",
       "      <td>0.986088</td>\n",
       "      <td>0.831776</td>\n",
       "      <td>0.927083</td>\n",
       "      <td>0.876847</td>\n",
       "      <td>0.975</td>\n",
       "      <td>0.953586</td>\n",
       "    </tr>\n",
       "    <tr>\n",
       "      <th>3</th>\n",
       "      <td>KNN</td>\n",
       "      <td>0.982955</td>\n",
       "      <td>0.956858</td>\n",
       "      <td>0.969731</td>\n",
       "      <td>0.675000</td>\n",
       "      <td>0.843750</td>\n",
       "      <td>0.750000</td>\n",
       "      <td>0.946</td>\n",
       "      <td>0.970000</td>\n",
       "    </tr>\n",
       "    <tr>\n",
       "      <th>0</th>\n",
       "      <td>Logistic Regression</td>\n",
       "      <td>0.963362</td>\n",
       "      <td>0.988938</td>\n",
       "      <td>0.975983</td>\n",
       "      <td>0.861111</td>\n",
       "      <td>0.645833</td>\n",
       "      <td>0.738095</td>\n",
       "      <td>0.956</td>\n",
       "      <td>0.966215</td>\n",
       "    </tr>\n",
       "  </tbody>\n",
       "</table>\n",
       "</div>"
      ],
      "text/plain": [
       "                 Model  Precision_0  Recall_0  F1-Score_0  Precision_1  \\\n",
       "1        Random Forest     0.993385  0.996681    0.995030     0.967742   \n",
       "2    Gradient Boosting     0.997740  0.976770    0.987144     0.817391   \n",
       "4        Decision Tree     0.992161  0.980088    0.986088     0.831776   \n",
       "3                  KNN     0.982955  0.956858    0.969731     0.675000   \n",
       "0  Logistic Regression     0.963362  0.988938    0.975983     0.861111   \n",
       "\n",
       "   Recall_1  F1-Score_1  Accuracy   ROC-AUC  \n",
       "1  0.937500    0.952381     0.991  0.998479  \n",
       "2  0.979167    0.890995     0.977  0.997269  \n",
       "4  0.927083    0.876847     0.975  0.953586  \n",
       "3  0.843750    0.750000     0.946  0.970000  \n",
       "0  0.645833    0.738095     0.956  0.966215  "
      ]
     },
     "execution_count": 26,
     "metadata": {},
     "output_type": "execute_result"
    }
   ],
   "source": [
    "models_balanced_results_df"
   ]
  },
  {
   "cell_type": "markdown",
   "id": "a1b61864-5df3-4019-a423-64f9a4c05d40",
   "metadata": {},
   "source": [
    "# Hyperparameter Tuning of best performing Models"
   ]
  },
  {
   "cell_type": "markdown",
   "id": "b6a47662-bb22-41be-872f-3592eea986be",
   "metadata": {},
   "source": [
    "## Defining Models and their respective Parameter Grids"
   ]
  },
  {
   "cell_type": "code",
   "execution_count": 27,
   "id": "ade2f891-ecd5-4240-93e2-7256d6d3cf05",
   "metadata": {},
   "outputs": [],
   "source": [
    "param_grids = {\n",
    "    \"Random Forest\": {\n",
    "        \"model\": RandomForestClassifier(random_state = 42, class_weight = 'balanced'),\n",
    "        \"params\": {\n",
    "            \"n_estimators\": [100, 200, 300],\n",
    "            \"max_depth\": [None, 10, 20, 30],\n",
    "            \"min_samples_split\": [2, 5, 10],\n",
    "            \"min_samples_leaf\": [1, 2, 4],\n",
    "            \"max_features\": [\"sqrt\", \"log2\"]\n",
    "        }\n",
    "    },\n",
    "    \"Gradient Boosting\": {\n",
    "        \"model\": GradientBoostingClassifier(random_state = 42),\n",
    "        \"params\": {\n",
    "            \"n_estimators\": [100, 200, 300],\n",
    "            \"max_depth\": [3, 4, 5],\n",
    "            \"min_samples_split\": [2, 5, 10],\n",
    "            \"learning_rate\": [0.01, 0.05, 0.1],\n",
    "            \"subsample\": [0.8, 1.0]\n",
    "        }\n",
    "    }\n",
    "}"
   ]
  },
  {
   "cell_type": "markdown",
   "id": "9cc68be3-2490-42d2-b8d4-91304c8c60a5",
   "metadata": {},
   "source": [
    "## Tuning"
   ]
  },
  {
   "cell_type": "code",
   "execution_count": 28,
   "id": "2da5bd2e-c811-40b9-b449-785a02117580",
   "metadata": {},
   "outputs": [
    {
     "name": "stdout",
     "output_type": "stream",
     "text": [
      "Tuning Random Forest!\n",
      "Fitting 5 folds for each of 10 candidates, totalling 50 fits\n",
      "Tuning Gradient Boosting!\n",
      "Fitting 5 folds for each of 10 candidates, totalling 50 fits\n"
     ]
    }
   ],
   "source": [
    "best_models_tuned = []\n",
    "for name, cfg in param_grids.items():\n",
    "    print(f\"Tuning {name}!\")\n",
    "\n",
    "    X_train_res, y_train_rest = smote.fit_resample(X_train, y_train)\n",
    "    \n",
    "    search = RandomizedSearchCV(estimator = cfg[\"model\"], param_distributions = cfg[\"params\"], n_iter = 10, scoring = \"f1\", cv = 5, n_jobs = -1, random_state = 42, verbose = 1)\n",
    "    search.fit(X_train_res, y_train_rest)\n",
    "    best_model = search.best_estimator_\n",
    "    best_params = search.best_params_\n",
    "\n",
    "    y_pred = best_model.predict(X_test)\n",
    "    y_prob = best_model.predict_proba(X_test)[:, 1]\n",
    "\n",
    "    report = classification_report(y_test, y_pred, output_dict = True)\n",
    "    roc_auc = roc_auc_score(y_test, y_prob)\n",
    "\n",
    "    best_models_tuned.append({\n",
    "        \"Model\": name,\n",
    "        \"Best Params\": best_params,\n",
    "        \"F1-Score_1\": report['1']['f1-score'],\n",
    "        \"ROC-AUC\": roc_auc,\n",
    "        \"Accuracy\": report['accuracy'],\n",
    "        \"Estimator\": best_model\n",
    "    })"
   ]
  },
  {
   "cell_type": "markdown",
   "id": "72356c8e-7160-46cd-b8a5-b33f370f5f09",
   "metadata": {},
   "source": [
    "## Converting results to a DataFrame"
   ]
  },
  {
   "cell_type": "code",
   "execution_count": 29,
   "id": "391be4f7-0b21-4d6b-b346-aa1ddf402249",
   "metadata": {},
   "outputs": [],
   "source": [
    "best_models_tuned_df = pd.DataFrame(best_models_tuned)\n",
    "best_models_tuned_df = best_models_tuned_df.sort_values(by = \"F1-Score_1\", ascending = False)"
   ]
  },
  {
   "cell_type": "markdown",
   "id": "87e061db-c72f-4e64-a545-f0111816c067",
   "metadata": {},
   "source": [
    "## Displaying results of Best Performing Models after Tuning"
   ]
  },
  {
   "cell_type": "code",
   "execution_count": 30,
   "id": "1f80f644-95fd-487d-b543-21398398388d",
   "metadata": {},
   "outputs": [
    {
     "data": {
      "text/html": [
       "<div>\n",
       "<style scoped>\n",
       "    .dataframe tbody tr th:only-of-type {\n",
       "        vertical-align: middle;\n",
       "    }\n",
       "\n",
       "    .dataframe tbody tr th {\n",
       "        vertical-align: top;\n",
       "    }\n",
       "\n",
       "    .dataframe thead th {\n",
       "        text-align: right;\n",
       "    }\n",
       "</style>\n",
       "<table border=\"1\" class=\"dataframe\">\n",
       "  <thead>\n",
       "    <tr style=\"text-align: right;\">\n",
       "      <th></th>\n",
       "      <th>Model</th>\n",
       "      <th>Best Params</th>\n",
       "      <th>F1-Score_1</th>\n",
       "      <th>ROC-AUC</th>\n",
       "      <th>Accuracy</th>\n",
       "      <th>Estimator</th>\n",
       "    </tr>\n",
       "  </thead>\n",
       "  <tbody>\n",
       "    <tr>\n",
       "      <th>0</th>\n",
       "      <td>Random Forest</td>\n",
       "      <td>{'n_estimators': 100, 'min_samples_split': 5, ...</td>\n",
       "      <td>0.928571</td>\n",
       "      <td>0.996808</td>\n",
       "      <td>0.986</td>\n",
       "      <td>(DecisionTreeClassifier(max_depth=20, max_feat...</td>\n",
       "    </tr>\n",
       "    <tr>\n",
       "      <th>1</th>\n",
       "      <td>Gradient Boosting</td>\n",
       "      <td>{'subsample': 1.0, 'n_estimators': 300, 'min_s...</td>\n",
       "      <td>0.866359</td>\n",
       "      <td>0.996635</td>\n",
       "      <td>0.971</td>\n",
       "      <td>([DecisionTreeRegressor(criterion='friedman_ms...</td>\n",
       "    </tr>\n",
       "  </tbody>\n",
       "</table>\n",
       "</div>"
      ],
      "text/plain": [
       "               Model                                        Best Params  \\\n",
       "0      Random Forest  {'n_estimators': 100, 'min_samples_split': 5, ...   \n",
       "1  Gradient Boosting  {'subsample': 1.0, 'n_estimators': 300, 'min_s...   \n",
       "\n",
       "   F1-Score_1   ROC-AUC  Accuracy  \\\n",
       "0    0.928571  0.996808     0.986   \n",
       "1    0.866359  0.996635     0.971   \n",
       "\n",
       "                                           Estimator  \n",
       "0  (DecisionTreeClassifier(max_depth=20, max_feat...  \n",
       "1  ([DecisionTreeRegressor(criterion='friedman_ms...  "
      ]
     },
     "execution_count": 30,
     "metadata": {},
     "output_type": "execute_result"
    }
   ],
   "source": [
    "best_models_tuned_df"
   ]
  },
  {
   "cell_type": "markdown",
   "id": "0aac207a-bbc9-456f-ba85-50c1a041130d",
   "metadata": {},
   "source": [
    "# Identifying the Best Performing Model"
   ]
  },
  {
   "cell_type": "code",
   "execution_count": 31,
   "id": "8906b5dd-071c-4c67-b5bc-e3092f7b99e0",
   "metadata": {},
   "outputs": [
    {
     "name": "stdout",
     "output_type": "stream",
     "text": [
      "Best Model: Random Forest\n",
      "RandomForestClassifier(class_weight='balanced', max_depth=20,\n",
      "                       max_features='log2', min_samples_split=5,\n",
      "                       random_state=42)\n"
     ]
    }
   ],
   "source": [
    "best_row = best_models_tuned_df.loc[best_models_tuned_df['F1-Score_1'].idxmax()]\n",
    "best_model_name = best_row['Model']\n",
    "best_model = best_row['Estimator']\n",
    "print(f\"Best Model: {best_model_name}\")\n",
    "print(best_model)"
   ]
  },
  {
   "cell_type": "code",
   "execution_count": 32,
   "id": "4a70d87a-b3f3-408b-8825-8ee9eb920f5e",
   "metadata": {},
   "outputs": [
    {
     "name": "stdout",
     "output_type": "stream",
     "text": [
      "Model classes: [0 1]\n",
      "Sample predicted probabilities on X_test:\n",
      "[[0.97785714 0.02214286]\n",
      " [0.00333333 0.99666667]\n",
      " [0.98       0.02      ]\n",
      " [1.         0.        ]\n",
      " [1.         0.        ]\n",
      " [0.99       0.01      ]\n",
      " [0.96666667 0.03333333]\n",
      " [0.99       0.01      ]\n",
      " [0.86541667 0.13458333]\n",
      " [0.94583333 0.05416667]]\n"
     ]
    }
   ],
   "source": [
    "print(\"Model classes:\", best_model.classes_)\n",
    "print(\"Sample predicted probabilities on X_test:\")\n",
    "print(best_model.predict_proba(X_test)[:10])"
   ]
  },
  {
   "cell_type": "markdown",
   "id": "4c6b8f0e-3c25-4a64-a96c-e630f57c4fbb",
   "metadata": {},
   "source": [
    "## Cross Validating Results of Best Performing Model"
   ]
  },
  {
   "cell_type": "code",
   "execution_count": 33,
   "id": "5426d8b3-53b1-4e8c-a31d-5ed92081cf35",
   "metadata": {},
   "outputs": [],
   "source": [
    "f1_scorer = make_scorer(f1_score)\n",
    "roc_scorer = make_scorer(roc_auc_score, needs_proba = True)"
   ]
  },
  {
   "cell_type": "code",
   "execution_count": 34,
   "id": "db7d1acf-cd11-432c-8420-dfa1c7fae759",
   "metadata": {},
   "outputs": [
    {
     "name": "stdout",
     "output_type": "stream",
     "text": [
      "Cross-Validation on F1-Scores on Loan Accepted = 1: [0.9261745  0.94594595 0.85714286 0.84353741 0.86842105]\n",
      "Mean F1-Score on Loan Accepted = 1: 0.888 ± 0.040\n",
      "\n",
      "Cross-Validation on ROC-AUC Scores: [0.99816444 0.99752115 0.99687449 0.98981516 0.9914318 ]\n",
      "Mean ROC-AUC Score: 0.995 ± 0.003\n"
     ]
    }
   ],
   "source": [
    "best_model_f1_scores = cross_val_score(best_model, X_train, y_train, cv = 5, scoring = f1_scorer)\n",
    "best_model_roc_scores = cross_val_score(best_model, X_train, y_train, cv = 5, scoring = 'roc_auc')\n",
    "\n",
    "print(f\"Cross-Validation on F1-Scores on Loan Accepted = 1: {best_model_f1_scores}\")\n",
    "print(f\"Mean F1-Score on Loan Accepted = 1: {np.mean(best_model_f1_scores):.3f} ± {np.std(best_model_f1_scores):.3f}\\n\")\n",
    "print(f\"Cross-Validation on ROC-AUC Scores: {best_model_roc_scores}\")\n",
    "print(f\"Mean ROC-AUC Score: {np.mean(best_model_roc_scores):.3f} ± {np.std(best_model_roc_scores):.3f}\")"
   ]
  },
  {
   "cell_type": "markdown",
   "id": "ab639573-a684-425f-8ace-2105aeefb548",
   "metadata": {},
   "source": [
    "## Feature Importance of the Best Performing Model"
   ]
  },
  {
   "cell_type": "code",
   "execution_count": 35,
   "id": "d510a651-9a06-428d-b2cd-368b2955a8f3",
   "metadata": {},
   "outputs": [
    {
     "data": {
      "text/html": [
       "<div>\n",
       "<style scoped>\n",
       "    .dataframe tbody tr th:only-of-type {\n",
       "        vertical-align: middle;\n",
       "    }\n",
       "\n",
       "    .dataframe tbody tr th {\n",
       "        vertical-align: top;\n",
       "    }\n",
       "\n",
       "    .dataframe thead th {\n",
       "        text-align: right;\n",
       "    }\n",
       "</style>\n",
       "<table border=\"1\" class=\"dataframe\">\n",
       "  <thead>\n",
       "    <tr style=\"text-align: right;\">\n",
       "      <th></th>\n",
       "      <th>Feature</th>\n",
       "      <th>Importance</th>\n",
       "    </tr>\n",
       "  </thead>\n",
       "  <tbody>\n",
       "    <tr>\n",
       "      <th>2</th>\n",
       "      <td>income</td>\n",
       "      <td>0.474994</td>\n",
       "    </tr>\n",
       "    <tr>\n",
       "      <th>3</th>\n",
       "      <td>cc_avg</td>\n",
       "      <td>0.195034</td>\n",
       "    </tr>\n",
       "    <tr>\n",
       "      <th>10</th>\n",
       "      <td>education_Undergrad</td>\n",
       "      <td>0.120294</td>\n",
       "    </tr>\n",
       "    <tr>\n",
       "      <th>4</th>\n",
       "      <td>mortgage</td>\n",
       "      <td>0.038639</td>\n",
       "    </tr>\n",
       "    <tr>\n",
       "      <th>6</th>\n",
       "      <td>cd_account</td>\n",
       "      <td>0.028377</td>\n",
       "    </tr>\n",
       "    <tr>\n",
       "      <th>0</th>\n",
       "      <td>age</td>\n",
       "      <td>0.028308</td>\n",
       "    </tr>\n",
       "    <tr>\n",
       "      <th>1</th>\n",
       "      <td>experience</td>\n",
       "      <td>0.027052</td>\n",
       "    </tr>\n",
       "    <tr>\n",
       "      <th>12</th>\n",
       "      <td>family_Size_3</td>\n",
       "      <td>0.019982</td>\n",
       "    </tr>\n",
       "    <tr>\n",
       "      <th>13</th>\n",
       "      <td>family_Size_4</td>\n",
       "      <td>0.017534</td>\n",
       "    </tr>\n",
       "    <tr>\n",
       "      <th>11</th>\n",
       "      <td>family_Size_2</td>\n",
       "      <td>0.014777</td>\n",
       "    </tr>\n",
       "    <tr>\n",
       "      <th>8</th>\n",
       "      <td>credit_card</td>\n",
       "      <td>0.012682</td>\n",
       "    </tr>\n",
       "    <tr>\n",
       "      <th>9</th>\n",
       "      <td>education_Professional</td>\n",
       "      <td>0.007615</td>\n",
       "    </tr>\n",
       "    <tr>\n",
       "      <th>7</th>\n",
       "      <td>online_banking</td>\n",
       "      <td>0.007551</td>\n",
       "    </tr>\n",
       "    <tr>\n",
       "      <th>5</th>\n",
       "      <td>securities_account</td>\n",
       "      <td>0.007162</td>\n",
       "    </tr>\n",
       "  </tbody>\n",
       "</table>\n",
       "</div>"
      ],
      "text/plain": [
       "                   Feature  Importance\n",
       "2                   income    0.474994\n",
       "3                   cc_avg    0.195034\n",
       "10     education_Undergrad    0.120294\n",
       "4                 mortgage    0.038639\n",
       "6               cd_account    0.028377\n",
       "0                      age    0.028308\n",
       "1               experience    0.027052\n",
       "12           family_Size_3    0.019982\n",
       "13           family_Size_4    0.017534\n",
       "11           family_Size_2    0.014777\n",
       "8              credit_card    0.012682\n",
       "9   education_Professional    0.007615\n",
       "7           online_banking    0.007551\n",
       "5       securities_account    0.007162"
      ]
     },
     "execution_count": 35,
     "metadata": {},
     "output_type": "execute_result"
    }
   ],
   "source": [
    "importances = best_model.feature_importances_\n",
    "features = X_train.columns\n",
    "\n",
    "feat_importance = pd.DataFrame({'Feature': features, 'Importance': importances})\n",
    "feat_importance = feat_importance.sort_values('Importance', ascending = False)\n",
    "feat_importance"
   ]
  },
  {
   "cell_type": "markdown",
   "id": "2ad727fc-2948-4766-8e9c-9cc7f6273260",
   "metadata": {},
   "source": [
    "## Visualizing the importance of each feature"
   ]
  },
  {
   "cell_type": "code",
   "execution_count": 36,
   "id": "f5bdceae-01f5-442e-8150-20f0c197eaaa",
   "metadata": {},
   "outputs": [
    {
     "data": {
      "image/png": "[encoded data removed]",
      "text/plain": [
       "<Figure size 1000x600 with 1 Axes>"
      ]
     },
     "metadata": {},
     "output_type": "display_data"
    }
   ],
   "source": [
    "plt.figure(figsize = (10, 6))\n",
    "ax = sns.barplot(data = feat_importance, x = 'Feature', y = 'Importance', hue = 'Feature', palette = 'dark', edgecolor = 'black')\n",
    "for container in ax.containers:\n",
    "    ax.bar_label(container, fmt = '%.4f', label_type = 'edge', fontsize = 9, padding = 2, color = 'black', weight = 'bold')\n",
    "\n",
    "ax.yaxis.grid(True, linestyle = '--', linewidth = 0.7, alpha = 0.7)\n",
    "ax.xaxis.grid(False)\n",
    "\n",
    "plt.title(\"Importance of each Feature in Gradient Boosting (Best Performing Model)\", fontsize = 14, weight = 'bold', pad = 15)\n",
    "plt.ylabel(\"Importance\")\n",
    "plt.xlabel(\"Feature\")\n",
    "plt.xticks(rotation = 45, ha = 'right')\n",
    "sns.despine()\n",
    "plt.tight_layout()\n",
    "plt.show()"
   ]
  },
  {
   "cell_type": "markdown",
   "id": "37d28540-a74c-41d4-a565-ff1cf9fd34b2",
   "metadata": {},
   "source": [
    "## Confusion Matrix of the Best Performing Model"
   ]
  },
  {
   "cell_type": "code",
   "execution_count": 37,
   "id": "bb7d6883-15a5-4b7f-9745-1bfe0130043e",
   "metadata": {},
   "outputs": [
    {
     "data": {
      "image/png": "[encoded data removed]",
      "text/plain": [
       "<Figure size 640x480 with 2 Axes>"
      ]
     },
     "metadata": {},
     "output_type": "display_data"
    }
   ],
   "source": [
    "ConfusionMatrixDisplay.from_estimator(best_model, X_test, y_test, cmap = plt.cm.Reds, display_labels = [\"Will NOT Accept\", \"Will Accept\"], values_format = '.0f')\n",
    "plt.title(\"Consfusion Matrix - Gradient Boosting Model (Best Performing Model)\")\n",
    "plt.show()"
   ]
  },
  {
   "cell_type": "markdown",
   "id": "e5bfa1e5-c549-4b38-a086-eb436406184f",
   "metadata": {},
   "source": [
    "## ROC Curve of the Best Performing Model"
   ]
  },
  {
   "cell_type": "code",
   "execution_count": 38,
   "id": "ba071187-1269-4ce5-8336-5259c5fd4852",
   "metadata": {},
   "outputs": [],
   "source": [
    "best_model_y_prob = best_model.predict_proba(X_test)[:, 1]\n",
    "best_model_y_pred = best_model.predict(X_test)"
   ]
  },
  {
   "cell_type": "code",
   "execution_count": 39,
   "id": "167a7dc1-3339-4074-ad0f-0391553c5e3c",
   "metadata": {},
   "outputs": [
    {
     "name": "stdout",
     "output_type": "stream",
     "text": [
      "ROC-AUC Score: 0.997\n"
     ]
    },
    {
     "data": {
      "image/png": "[encoded data removed]",
      "text/plain": [
       "<Figure size 640x480 with 1 Axes>"
      ]
     },
     "metadata": {},
     "output_type": "display_data"
    }
   ],
   "source": [
    "best_model_roc_auc = roc_auc_score(y_test, best_model_y_prob)\n",
    "print(f\"ROC-AUC Score: {best_model_roc_auc:.3f}\")\n",
    "\n",
    "RocCurveDisplay.from_predictions(y_test, best_model_y_prob, name = \"Best Model\", curve_kwargs = {\"color\": \"green\", \"linewidth\": 2})\n",
    "plt.title(\"ROC Curve - Gradient Boosting Model (Best Performing Model)\")\n",
    "plt.show()"
   ]
  },
  {
   "cell_type": "markdown",
   "id": "62696a83-1362-4c84-a7e6-6cead1b17220",
   "metadata": {},
   "source": [
    "## Precision Precision Recall Curve of the Best Performing Model"
   ]
  },
  {
   "cell_type": "code",
   "execution_count": 40,
   "id": "aeb03539-d753-4963-be3c-1463ceb967bb",
   "metadata": {},
   "outputs": [
    {
     "name": "stdout",
     "output_type": "stream",
     "text": [
      "Recall Score: 0.948\n"
     ]
    },
    {
     "data": {
      "image/png": "[encoded data removed]",
      "text/plain": [
       "<Figure size 640x480 with 1 Axes>"
      ]
     },
     "metadata": {},
     "output_type": "display_data"
    }
   ],
   "source": [
    "best_model_recall = recall_score(y_test, best_model_y_pred)\n",
    "print(f\"Recall Score: {best_model_recall:.3f}\")\n",
    "\n",
    "PrecisionRecallDisplay.from_predictions(y_test, best_model_y_prob, name = \"Best Model\", color = \"navy\", linewidth = 2)\n",
    "plt.title(\"Precision Recall Score - Gradient Boosting Model (Best Performing Model)\")\n",
    "plt.show()"
   ]
  },
  {
   "cell_type": "markdown",
   "id": "ae152ae2-03dd-4f00-9b4f-631104ec9d86",
   "metadata": {},
   "source": [
    "# Combining Model Evaluation Results from all Stages"
   ]
  },
  {
   "cell_type": "code",
   "execution_count": 41,
   "id": "b8fa1c07-2357-47c0-849d-26dab2174a5a",
   "metadata": {},
   "outputs": [
    {
     "data": {
      "text/html": [
       "<div>\n",
       "<style scoped>\n",
       "    .dataframe tbody tr th:only-of-type {\n",
       "        vertical-align: middle;\n",
       "    }\n",
       "\n",
       "    .dataframe tbody tr th {\n",
       "        vertical-align: top;\n",
       "    }\n",
       "\n",
       "    .dataframe thead th {\n",
       "        text-align: right;\n",
       "    }\n",
       "</style>\n",
       "<table border=\"1\" class=\"dataframe\">\n",
       "  <thead>\n",
       "    <tr style=\"text-align: right;\">\n",
       "      <th></th>\n",
       "      <th>Model</th>\n",
       "      <th>F1-Score_1</th>\n",
       "      <th>ROC-AUC</th>\n",
       "      <th>Accuracy</th>\n",
       "      <th>Stage</th>\n",
       "    </tr>\n",
       "  </thead>\n",
       "  <tbody>\n",
       "    <tr>\n",
       "      <th>0</th>\n",
       "      <td>Random Forest</td>\n",
       "      <td>0.952381</td>\n",
       "      <td>0.998479</td>\n",
       "      <td>0.991</td>\n",
       "      <td>1 (Baseline)</td>\n",
       "    </tr>\n",
       "    <tr>\n",
       "      <th>1</th>\n",
       "      <td>Gradient Boosting</td>\n",
       "      <td>0.924623</td>\n",
       "      <td>0.998387</td>\n",
       "      <td>0.985</td>\n",
       "      <td>1 (Baseline)</td>\n",
       "    </tr>\n",
       "    <tr>\n",
       "      <th>2</th>\n",
       "      <td>Decision Tree</td>\n",
       "      <td>0.876847</td>\n",
       "      <td>0.953586</td>\n",
       "      <td>0.975</td>\n",
       "      <td>1 (Baseline)</td>\n",
       "    </tr>\n",
       "    <tr>\n",
       "      <th>3</th>\n",
       "      <td>Logistic Regression</td>\n",
       "      <td>0.738095</td>\n",
       "      <td>0.966215</td>\n",
       "      <td>0.956</td>\n",
       "      <td>1 (Baseline)</td>\n",
       "    </tr>\n",
       "    <tr>\n",
       "      <th>4</th>\n",
       "      <td>KNN</td>\n",
       "      <td>0.701987</td>\n",
       "      <td>0.927948</td>\n",
       "      <td>0.955</td>\n",
       "      <td>1 (Baseline)</td>\n",
       "    </tr>\n",
       "    <tr>\n",
       "      <th>5</th>\n",
       "      <td>Random Forest</td>\n",
       "      <td>0.952381</td>\n",
       "      <td>0.998479</td>\n",
       "      <td>0.991</td>\n",
       "      <td>2 (After_Balancing)</td>\n",
       "    </tr>\n",
       "    <tr>\n",
       "      <th>6</th>\n",
       "      <td>Gradient Boosting</td>\n",
       "      <td>0.890995</td>\n",
       "      <td>0.997269</td>\n",
       "      <td>0.977</td>\n",
       "      <td>2 (After_Balancing)</td>\n",
       "    </tr>\n",
       "    <tr>\n",
       "      <th>7</th>\n",
       "      <td>Decision Tree</td>\n",
       "      <td>0.876847</td>\n",
       "      <td>0.953586</td>\n",
       "      <td>0.975</td>\n",
       "      <td>2 (After_Balancing)</td>\n",
       "    </tr>\n",
       "    <tr>\n",
       "      <th>8</th>\n",
       "      <td>KNN</td>\n",
       "      <td>0.750000</td>\n",
       "      <td>0.970000</td>\n",
       "      <td>0.946</td>\n",
       "      <td>2 (After_Balancing)</td>\n",
       "    </tr>\n",
       "    <tr>\n",
       "      <th>9</th>\n",
       "      <td>Logistic Regression</td>\n",
       "      <td>0.738095</td>\n",
       "      <td>0.966215</td>\n",
       "      <td>0.956</td>\n",
       "      <td>2 (After_Balancing)</td>\n",
       "    </tr>\n",
       "    <tr>\n",
       "      <th>10</th>\n",
       "      <td>Random Forest</td>\n",
       "      <td>0.928571</td>\n",
       "      <td>0.996808</td>\n",
       "      <td>0.986</td>\n",
       "      <td>3 (After_Tuning)</td>\n",
       "    </tr>\n",
       "    <tr>\n",
       "      <th>11</th>\n",
       "      <td>Gradient Boosting</td>\n",
       "      <td>0.866359</td>\n",
       "      <td>0.996635</td>\n",
       "      <td>0.971</td>\n",
       "      <td>3 (After_Tuning)</td>\n",
       "    </tr>\n",
       "  </tbody>\n",
       "</table>\n",
       "</div>"
      ],
      "text/plain": [
       "                  Model  F1-Score_1   ROC-AUC  Accuracy                Stage\n",
       "0         Random Forest    0.952381  0.998479     0.991         1 (Baseline)\n",
       "1     Gradient Boosting    0.924623  0.998387     0.985         1 (Baseline)\n",
       "2         Decision Tree    0.876847  0.953586     0.975         1 (Baseline)\n",
       "3   Logistic Regression    0.738095  0.966215     0.956         1 (Baseline)\n",
       "4                   KNN    0.701987  0.927948     0.955         1 (Baseline)\n",
       "5         Random Forest    0.952381  0.998479     0.991  2 (After_Balancing)\n",
       "6     Gradient Boosting    0.890995  0.997269     0.977  2 (After_Balancing)\n",
       "7         Decision Tree    0.876847  0.953586     0.975  2 (After_Balancing)\n",
       "8                   KNN    0.750000  0.970000     0.946  2 (After_Balancing)\n",
       "9   Logistic Regression    0.738095  0.966215     0.956  2 (After_Balancing)\n",
       "10        Random Forest    0.928571  0.996808     0.986     3 (After_Tuning)\n",
       "11    Gradient Boosting    0.866359  0.996635     0.971     3 (After_Tuning)"
      ]
     },
     "execution_count": 41,
     "metadata": {},
     "output_type": "execute_result"
    }
   ],
   "source": [
    "models_results_df['Stage'] = '1 (Baseline)'\n",
    "models_balanced_results_df['Stage'] = '2 (After_Balancing)'\n",
    "best_models_tuned_df['Stage'] = '3 (After_Tuning)'\n",
    "\n",
    "Comparison_cols = ['Model', 'F1-Score_1', 'ROC-AUC', 'Accuracy', 'Stage']\n",
    "baseline_df = models_results_df[Comparison_cols]\n",
    "balanced_df = models_balanced_results_df[Comparison_cols]\n",
    "tuned_df = best_models_tuned_df[Comparison_cols]\n",
    "\n",
    "combined_comparison_results = pd.concat([baseline_df, balanced_df, tuned_df], ignore_index = True)\n",
    "combined_comparison_results = combined_comparison_results.sort_values(by = ['Stage', 'F1-Score_1'], ascending = [True, False])\n",
    "\n",
    "best_F1_value = combined_comparison_results['F1-Score_1'].max()\n",
    "best_ROC_AUC_value = combined_comparison_results['ROC-AUC'].max()\n",
    "best_Accuracy_value = combined_comparison_results['Accuracy'].max()\n",
    "\n",
    "combined_comparison_results"
   ]
  },
  {
   "cell_type": "markdown",
   "id": "c8bdde27-979f-4c09-90f4-4e4873ab939a",
   "metadata": {},
   "source": [
    "# Visualizing Combined Results for Comparison"
   ]
  },
  {
   "cell_type": "markdown",
   "id": "09d6f0e0-8466-4167-b5cd-5c6462917e61",
   "metadata": {},
   "source": [
    "## Comparing F1-Score"
   ]
  },
  {
   "cell_type": "code",
   "execution_count": 42,
   "id": "57717147-71b0-445f-8529-1e8bb42d5474",
   "metadata": {},
   "outputs": [
    {
     "data": {
      "image/png": "[encoded data removed]",
      "text/plain": [
       "<Figure size 1000x600 with 1 Axes>"
      ]
     },
     "metadata": {},
     "output_type": "display_data"
    }
   ],
   "source": [
    "plt.figure(figsize = (10, 6))\n",
    "ax = sns.barplot(data = combined_comparison_results, x = 'Model', y = 'F1-Score_1', hue = 'Stage', palette = 'viridis', edgecolor = 'black')\n",
    "for container in ax.containers:\n",
    "    ax.bar_label(container, fmt = '%.3f', label_type = 'edge', fontsize = 9, padding = 2, color = 'black', weight = 'bold')\n",
    "\n",
    "ax.yaxis.grid(True, linestyle = '--', linewidth = 0.7, alpha = 0.7)\n",
    "ax.xaxis.grid(False)\n",
    "\n",
    "plt.title(\"Model F1-Score on Loan = 1 Progression: Baseline -> Balanced -> Tuned\", fontsize = 14, weight = 'bold', pad = 15)\n",
    "plt.ylabel(\"F1-Score (on Loan Accepted = 1)\")\n",
    "plt.xlabel(\"Model\")\n",
    "plt.axhline(best_F1_value, color = 'red', linestyle = '--', linewidth = 1.2, label = 'Best Model F1')\n",
    "plt.legend(title = 'Stage')\n",
    "sns.despine()\n",
    "plt.tight_layout()\n",
    "plt.show()"
   ]
  },
  {
   "cell_type": "markdown",
   "id": "73edfdb5-add3-4ac3-bce6-42b751db9480",
   "metadata": {},
   "source": [
    "## Comparing ROC-AUC Score"
   ]
  },
  {
   "cell_type": "code",
   "execution_count": 43,
   "id": "0f650ee0-2c51-4ccc-9913-ff453218c01e",
   "metadata": {},
   "outputs": [
    {
     "data": {
      "image/png": "[encoded data removed]",
      "text/plain": [
       "<Figure size 1000x600 with 1 Axes>"
      ]
     },
     "metadata": {},
     "output_type": "display_data"
    }
   ],
   "source": [
    "plt.figure(figsize = (10, 6))\n",
    "ax = sns.barplot(data = combined_comparison_results, x = 'Model', y = 'ROC-AUC', hue = 'Stage', palette = 'magma', edgecolor = 'black')\n",
    "for container in ax.containers:\n",
    "    ax.bar_label(container, fmt = '%.4f', label_type = 'edge', fontsize = 9, padding = 2, color = 'black', weight = 'bold')\n",
    "\n",
    "ax.yaxis.grid(True, linestyle = '--', linewidth = 0.7, alpha = 0.7)\n",
    "ax.xaxis.grid(False)\n",
    "\n",
    "plt.title(\"Model ROC-AUC Progression: Baseline -> Balanced -> Tuned\")\n",
    "plt.ylabel(\"ROC-AUC Score\")\n",
    "plt.xlabel(\"Model\")\n",
    "plt.axhline(best_ROC_AUC_value, color = 'red', linestyle = '--', linewidth = 1.2, label = 'Best Model ROC-AUC')\n",
    "plt.legend(title = 'Stage')\n",
    "sns.despine()\n",
    "plt.tight_layout()\n",
    "plt.show()"
   ]
  },
  {
   "cell_type": "markdown",
   "id": "49703872-9421-4463-af16-26ffd477fd61",
   "metadata": {},
   "source": [
    "## Comparing Accuracy Score"
   ]
  },
  {
   "cell_type": "code",
   "execution_count": 44,
   "id": "a930e5e7-4042-46b8-a471-c55d65affe03",
   "metadata": {},
   "outputs": [
    {
     "data": {
      "image/png": "[encoded data removed]",
      "text/plain": [
       "<Figure size 1000x600 with 1 Axes>"
      ]
     },
     "metadata": {},
     "output_type": "display_data"
    }
   ],
   "source": [
    "plt.figure(figsize = (10, 6))\n",
    "ax = sns.barplot(data = combined_comparison_results, x = 'Model', y = 'Accuracy', hue = 'Stage', palette = 'deep', edgecolor = 'black')\n",
    "for container in ax.containers:\n",
    "    ax.bar_label(container, fmt = '%.3f', label_type = 'edge', fontsize = 9, padding = 2, color = 'black', weight = 'bold')\n",
    "\n",
    "ax.yaxis.grid(True, linestyle = '--', linewidth = 0.7, alpha = 0.7)\n",
    "ax.xaxis.grid(False)\n",
    "\n",
    "plt.title(\"Model Accuracy Progression: Baseline -> Balanced -> Tuned\")\n",
    "plt.ylabel(\"Accuracy Score\")\n",
    "plt.xlabel(\"Model\")\n",
    "plt.axhline(best_Accuracy_value, color = 'red', linestyle = '--', linewidth = 1.2, label = 'Best Model Accuracy')\n",
    "plt.legend(title = 'Stage')\n",
    "sns.despine()\n",
    "plt.tight_layout()\n",
    "plt.show()"
   ]
  },
  {
   "cell_type": "markdown",
   "id": "89d6e55c-3cf1-4435-a6d5-4bcc2d6f653c",
   "metadata": {},
   "source": [
    "# Interpretation of Models Performance"
   ]
  },
  {
   "cell_type": "markdown",
   "id": "c7a8226c-0ff9-4d16-9e61-99e9cd199752",
   "metadata": {},
   "source": [
    "## Top Models Performance Overview"
   ]
  },
  {
   "cell_type": "code",
   "execution_count": 45,
   "id": "2c54853d-04ca-48e7-819b-0444f7db3401",
   "metadata": {},
   "outputs": [
    {
     "data": {
      "text/html": [
       "<div>\n",
       "<style scoped>\n",
       "    .dataframe tbody tr th:only-of-type {\n",
       "        vertical-align: middle;\n",
       "    }\n",
       "\n",
       "    .dataframe tbody tr th {\n",
       "        vertical-align: top;\n",
       "    }\n",
       "\n",
       "    .dataframe thead th {\n",
       "        text-align: right;\n",
       "    }\n",
       "</style>\n",
       "<table border=\"1\" class=\"dataframe\">\n",
       "  <thead>\n",
       "    <tr style=\"text-align: right;\">\n",
       "      <th></th>\n",
       "      <th>Stage</th>\n",
       "      <th>Top Model</th>\n",
       "      <th>F1-Score (Loan Accepted = 1)</th>\n",
       "      <th>ROC-AUC</th>\n",
       "      <th>Accuracy</th>\n",
       "    </tr>\n",
       "  </thead>\n",
       "  <tbody>\n",
       "    <tr>\n",
       "      <th>0</th>\n",
       "      <td>Baseline</td>\n",
       "      <td>Random Forest</td>\n",
       "      <td>0.952</td>\n",
       "      <td>0.998</td>\n",
       "      <td>0.991</td>\n",
       "    </tr>\n",
       "    <tr>\n",
       "      <th>1</th>\n",
       "      <td>After_Balancing</td>\n",
       "      <td>Random Forest</td>\n",
       "      <td>0.952</td>\n",
       "      <td>0.998</td>\n",
       "      <td>0.991</td>\n",
       "    </tr>\n",
       "    <tr>\n",
       "      <th>2</th>\n",
       "      <td>After_Tuning</td>\n",
       "      <td>Random Forest</td>\n",
       "      <td>0.929</td>\n",
       "      <td>0.997</td>\n",
       "      <td>0.986</td>\n",
       "    </tr>\n",
       "  </tbody>\n",
       "</table>\n",
       "</div>"
      ],
      "text/plain": [
       "             Stage      Top Model  F1-Score (Loan Accepted = 1)  ROC-AUC  \\\n",
       "0         Baseline  Random Forest                         0.952    0.998   \n",
       "1  After_Balancing  Random Forest                         0.952    0.998   \n",
       "2     After_Tuning  Random Forest                         0.929    0.997   \n",
       "\n",
       "   Accuracy  \n",
       "0     0.991  \n",
       "1     0.991  \n",
       "2     0.986  "
      ]
     },
     "execution_count": 45,
     "metadata": {},
     "output_type": "execute_result"
    }
   ],
   "source": [
    "top_models_per_stage = (combined_comparison_results.groupby('Stage').first().reset_index()[['Stage', 'Model', 'F1-Score_1', 'ROC-AUC', 'Accuracy']])\n",
    "top_models_per_stage.columns = ['Stage', 'Top Model', 'F1-Score (Loan Accepted = 1)', 'ROC-AUC', 'Accuracy']\n",
    "top_models_per_stage[['F1-Score (Loan Accepted = 1)', 'ROC-AUC', 'Accuracy']] = top_models_per_stage[['F1-Score (Loan Accepted = 1)', 'ROC-AUC', 'Accuracy']].round(3)\n",
    "top_models_per_stage['Stage'] = top_models_per_stage['Stage'].replace({'1 (Baseline)': 'Baseline', '2 (After_Balancing)': 'After_Balancing', '3 (After_Tuning)': 'After_Tuning'})\n",
    "top_models_per_stage"
   ]
  },
  {
   "cell_type": "markdown",
   "id": "4dbcca6d-9d9d-47cf-bd74-663d95f2cbb0",
   "metadata": {},
   "source": [
    "## Model Evaluation Summary"
   ]
  },
  {
   "cell_type": "markdown",
   "id": "4de61cc7-b1a1-4ef4-a7a9-71c92c08e2e8",
   "metadata": {},
   "source": [
    "The tree-based ensemble models - Random Forest and Gradient Boosting - continued to outperform all other algorithms acorss all stages (Baseline, After Balancing, and After Hyperparameter Tuning).\n",
    "\n",
    "However, after model tuning and consistent validation, Random Forest emerged as the top performing model, delivering the highest overall F1-Score, ROC-AUC, and Accuracy with stable performances across all stages"
   ]
  },
  {
   "cell_type": "markdown",
   "id": "eb50f2a9-ce33-48ae-9bb3-905e67472464",
   "metadata": {},
   "source": [
    "## Final Recommendation"
   ]
  },
  {
   "cell_type": "markdown",
   "id": "cfee0401-9186-4ec6-8836-0c7693782c90",
   "metadata": {},
   "source": [
    "**Best Final Model:** Random Forest (After Tuning).\n",
    "\n",
    "| Metric                       | Value        |\n",
    "|:-----------------------------|:-------------|\n",
    "| F1-Score (Loan Accepted = 1) | 0.929        |\n",
    "| ROC-AUC                      | 0.997        |\n",
    "| Accuracy                     | 0.986        |\n",
    "| Stage                        | After Tuning |"
   ]
  },
  {
   "cell_type": "markdown",
   "id": "82b1d048-f966-43d0-bcc1-5460875951e9",
   "metadata": {},
   "source": [
    "## Key Observations"
   ]
  },
  {
   "cell_type": "markdown",
   "id": "5cc03d44-27ae-47f1-9f99-4ed8464131a7",
   "metadata": {},
   "source": [
    "* Random Forest consistently maintained top performance across all stages; Baseline, Balanced, and Tuned, with minimal variance in metrics.\n",
    "* It achieved superior Recall and Precision balance for both accepted (1) and non-accepted (0) classes.\n",
    "* It showed strong generalization confirmed by 5-fold Cross Validation:\n",
    "    - Mean F1-Score (Loan Accepted = 1): 0.888 ± 0.040\n",
    "    - Mean ROC-AUC: 0.995 ± 0.003\n",
    "    - *These low variance indicate stable and reliable model performance.*\n",
    "* Feature importance analysis showed the model places the highest predictive weight on:\n",
    "    - Income: 47%\n",
    "    - Credit Card Average Spend (per month): 19%\n",
    "    - Education (Undergrad: 12%\n",
    "    - Mortgage: 3%\n",
    "    - cd_accoun: 2%\n",
    "    - Age: 2%\n",
    "* The Confusion Matrix highlights very few misclassifications:\n",
    "    - True Negatives (Will Not Accept): 985\n",
    "    - True Positives (Will Accept): 91\n",
    "    - False Negatives: 5\n",
    "    - False Positives: 9\n",
    "    - *This reflects high sensitivity (recall) and strong precision for both classes.*"
   ]
  },
  {
   "cell_type": "markdown",
   "id": "a2ac561a-1a8d-43e4-99ff-f50588dab19a",
   "metadata": {},
   "source": [
    "## Runner-up: Gradient Boosting"
   ]
  },
  {
   "cell_type": "markdown",
   "id": "8f925303-2e5d-4ae2-924e-f3579681149a",
   "metadata": {},
   "source": [
    "Although Gradient Boosting remained competitive, its tuned version achieved:\n",
    "* F1-Score: 0.866\n",
    "* ROC-AUC: 0.997\n",
    "* Accuracy: 0.971\n",
    "\n",
    "While still robust, it underperformed Random Forest in both F1 and overall prediction stability."
   ]
  },
  {
   "cell_type": "markdown",
   "id": "1d1f9793-79da-4e14-8de5-4e3c5a780ff8",
   "metadata": {},
   "source": [
    "## Business Interpretation"
   ]
  },
  {
   "cell_type": "markdown",
   "id": "84b51956-8b7c-4e41-b892-c79774208218",
   "metadata": {},
   "source": [
    "A Random Forest Classifier offers a  highly dependable method for forecasting loan acceptance behavior among potential customers.\n",
    "This model allows the business to:\n",
    "* **Target the right customers:** identify individuals with the highest likelihood of accepting personal loan offers.\n",
    "* **Enhance marketing efficiency:** Reduce campaign costs by focusing on receptive customer profiles.\n",
    "* **Optimize resource allocation:** Prioritize outreach to segments showing strong acceptance intent.\n",
    "* **Interpret drivers of acceptance:** Understand that income level, spending behavior (cc_avg), and education level are strong indicators of loan acceptance."
   ]
  },
  {
   "cell_type": "markdown",
   "id": "0292e798-6c66-443c-b945-a37771810317",
   "metadata": {},
   "source": [
    "# Conclusion"
   ]
  },
  {
   "cell_type": "markdown",
   "id": "f0ca41a4-f22e-43e8-bbcb-633525fcb9a9",
   "metadata": {},
   "source": [
    "**Final Chosen Model:** Random Forest (After Tuning)\n",
    "\n",
    "**Reason:** Best combination of accuracy, recall, interpretability, and stability across all evaluation stages\n",
    "\n",
    "The Random Forest model provides teh most reliable and generalizable performance for implementation in the Loan Acceptance Prediction System, ensuring both predictive strength and actionable business insights."
   ]
  },
  {
   "cell_type": "markdown",
   "id": "eb165a7b-9776-4af9-95a7-a5a6fd1d7372",
   "metadata": {},
   "source": [
    "# Saving Final Model"
   ]
  },
  {
   "cell_type": "code",
   "execution_count": 46,
   "id": "fc82fc4a-17d8-4c8e-906d-ee3d3558e484",
   "metadata": {},
   "outputs": [],
   "source": [
    "with open(\"Personal_loan_acceptance_Prediction_Model.pkl\", \"wb\") as f:\n",
    "    pickle.dump(best_model, f)"
   ]
  },
  {
   "cell_type": "code",
   "execution_count": 47,
   "id": "3a67a132-129f-4666-be35-0cb5446f9a26",
   "metadata": {},
   "outputs": [],
   "source": [
    "with open(\"Model_scaler.pkl\", \"wb\") as f:\n",
    "    pickle.dump(scaler, f)"
   ]
  }
 ],
 "metadata": {
  "kernelspec": {
   "display_name": "Python 3 (ipykernel)",
   "language": "python",
   "name": "python3"
  },
  "language_info": {
   "codemirror_mode": {
    "name": "ipython",
    "version": 3
   },
   "file_extension": ".py",
   "mimetype": "text/x-python",
   "name": "python",
   "nbconvert_exporter": "python",
   "pygments_lexer": "ipython3",
   "version": "3.13.5"
  }
 },
 "nbformat": 4,
 "nbformat_minor": 5
}
